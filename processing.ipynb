{
 "cells": [
  {
   "cell_type": "code",
   "metadata": {},
   "source": [
    "import os\n",
    "import pandas as pd\n",
    "import matplotlib.pyplot as plt\n",
    "import geopandas as gpd"
   ],
   "outputs": [],
   "execution_count": 2
  },
  {
   "cell_type": "code",
   "execution_count": 43,
   "metadata": {},
   "source": [
    "files = {}\n",
    "for dirname,_,files_1 in os.walk(os.getcwd()):\n",
    "    for file in files_1:\n",
    "        if file.endswith(\".dbf\"):\n",
    "            df = gpd.read_file(os.path.join(dirname,file))\n",
    "            #df = df.dropna(axis=1)\n",
    "            files[file[:-4]] = df"
   ],
   "outputs": []
  },
  {
   "cell_type": "code",
   "execution_count": 44,
   "metadata": {},
   "source": [
    "keys = [a for a in files.keys()]"
   ],
   "outputs": []
  },
  {
   "cell_type": "code",
   "execution_count": 45,
   "metadata": {},
   "source": [
    "keys"
   ],
   "outputs": [
    {
     "data": {
      "text/plain": [
       "['01_EGRESADOS_CARATULA',\n '02_EGRESADOS_CAP100',\n '03_EGRESADOS_CAP200',\n '04_EGRESADOS_CAP300',\n '05_EGRESADOS_CAP300A',\n '06_EGRESADOS_CAP400_1',\n '06_EGRESADOS_CAP400_2',\n '07_EGRESADOS_CAP500',\n '08_EGRESADOS_CAP600',\n '09_UNIVERSIDADES_CARATULA',\n '10_UNIVERSIDADES_C7P700_1',\n '10_UNIVERSIDADES_C7P700_2',\n '14_UNIVERSIDADES_C9P900']"
      ]
     },
     "execution_count": 45,
     "metadata": {},
     "output_type": "execute_result"
    }
   ]
  },
  {
   "cell_type": "code",
   "execution_count": 57,
   "metadata": {},
   "source": [
    "a = files[keys[0]]\n",
    "a = a.loc[a.NOMBRECCDD.isin([\"ICA\",\"LIMA\"])]\n",
    "b = files[keys[4]]\n",
    "print(keys[4])\n",
    "merge = pd.merge(a[[\"SELECT\",\"NOMBRECCPP\",\"GENERO\"]],\n",
    "                 b,on=\"SELECT\")\n",
    "\n",
    "merge.groupby([\"NOMBRECCPP\",\"GENERO\"]).agg({\n",
    "               \"F_EXPANS\":[\"size\",\"mean\"]})"
   ],
   "outputs": [
    {
     "name": "stdout",
     "output_type": "stream",
     "text": [
      "05_EGRESADOS_CAP300A\n"
     ]
    },
    {
     "data": {
      "text/plain": [
       "                  F_EXPANS           \n                      size       mean\nNOMBRECCPP GENERO                    \nBARRANCA   1             2  14.120000\n           2             5  27.798000\nCA\u00a5ETE     1             2  11.180000\n           2             6  19.521667\nCA\u00c7'ETE    2             2   2.170000\nCHINCHA    1             5  12.120000\n           2             5   9.136000\nHUARAL     1             2  24.170000\nHUAURA     1            11  20.040000\n           2            16  20.190000\nICA        1            25  22.446800\n           2            56  23.236786\nLIMA       1           368  23.385571\n           2           564  22.522216\nNAZCA      2             1  17.280000\nPISCO      1             4  22.710000\n           2             3  16.503333"
      ]
     },
     "execution_count": 57,
     "metadata": {},
     "output_type": "execute_result"
    }
   ]
  },
  {
   "cell_type": "code",
   "execution_count": 63,
   "metadata": {},
   "source": [
    "merge.CAP300AP_C"
   ],
   "outputs": [
    {
     "data": {
      "text/plain": [
       "0       3\n1       2\n2       2\n3       4\n4       1\n       ..\n1072    1\n1073    3\n1074    3\n1075    3\n1076    3\nName: CAP300AP_C, Length: 1077, dtype: int64"
      ]
     },
     "execution_count": 63,
     "metadata": {},
     "output_type": "execute_result"
    }
   ]
  },
  {
   "cell_type": "code",
   "execution_count": 58,
   "metadata": {},
   "source": [
    "merge.columns"
   ],
   "outputs": [
    {
     "data": {
      "text/plain": [
       "Index(['SELECT', 'NOMBRECCPP', 'GENERO', 'CAP300AP34', 'CAP300AP_A',\n       'CAP300AP_B', 'CAP300AP_C', 'CAP300AP_D', 'CAP300AP_E', 'F_EXPANS',\n       'geometry'],\n      dtype='object')"
      ]
     },
     "execution_count": 58,
     "metadata": {},
     "output_type": "execute_result"
    }
   ]
  },
  {
   "cell_type": "code",
   "execution_count": 50,
   "metadata": {},
   "source": [
    "files[keys[0]].columns"
   ],
   "outputs": [
    {
     "data": {
      "text/plain": [
       "Index(['SELECT', 'CULMEST', 'MINEDAD', 'CCDD', 'NOMBRECCDD', 'CCPP',\n       'NOMBRECCPP', 'CCDI', 'NOMBRECCDI', 'NOMBRECCCP', 'GENERO', 'CCDD_NAC',\n       'DEP_NAC', 'CCPP_NAC', 'PROV_NAC', 'CCDI_NAC', 'DIST_NAC', 'RESULT_FEC',\n       'RESULT_HOR', 'RESULT_FIN', 'RESULT_F_A', 'F_EXPANS', 'geometry'],\n      dtype='object')"
      ]
     },
     "execution_count": 50,
     "metadata": {},
     "output_type": "execute_result"
    }
   ]
  },
  {
   "cell_type": "code",
   "execution_count": 51,
   "metadata": {},
   "source": [
    "b"
   ],
   "outputs": [
    {
     "data": {
      "text/plain": [
       "       SELECT  CAP200P201  CAP200P202  CAP200P204  CAP200P205  CAP200P2_A  \\\n0           1           1         1.0         1.0         6.0           1   \n1           2           2         NaN         NaN         NaN           1   \n2           3           1         1.0         1.0         4.0           1   \n3           5           1         1.0         2.0         5.0           1   \n4           6           1         1.0         1.0         6.0           1   \n...       ...         ...         ...         ...         ...         ...   \n10559   10645           1         1.0         1.0         5.0           1   \n10560   10646           1         1.0         1.0         6.0           1   \n10561   10647           1         1.0         1.0         4.0           1   \n10562   10648           1         1.0         1.0         4.0           1   \n10563   10649           1         1.0         1.0         5.0           1   \n\n       CAP200P2_B  CAP200P2_C  CAP200P2_D  F_EXPANS geometry  \n0             2.0         1.0         6.0     14.35     None  \n1             2.0         1.0         6.0     19.14     None  \n2             2.0         1.0         3.0     11.25     None  \n3             2.0         2.0         4.0     16.13     None  \n4             2.0         1.0         1.0     25.90     None  \n...           ...         ...         ...       ...      ...  \n10559         2.0         1.0         4.0     44.86     None  \n10560         2.0         1.0         4.0     44.86     None  \n10561         2.0         1.0         5.0      1.47     None  \n10562         2.0         1.0         4.0      1.29     None  \n10563         2.0         1.0         4.0     28.44     None  \n\n[10564 rows x 11 columns]"
      ]
     },
     "execution_count": 51,
     "metadata": {},
     "output_type": "execute_result"
    }
   ]
  },
  {
   "cell_type": "code",
   "execution_count": null,
   "metadata": {},
   "source": [],
   "outputs": []
  }
 ],
 "metadata": {
  "kernelspec": {
   "display_name": "Python 3",
   "language": "python",
   "name": "python3"
  },
  "language_info": {
   "file_extension": ".py",
   "mimetype": "text/x-python",
   "name": "python",
   "version": "3.9.2"
  }
 },
 "nbformat": 4,
 "nbformat_minor": 4
}
